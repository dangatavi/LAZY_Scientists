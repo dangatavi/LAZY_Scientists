{
 "cells": [
  {
   "cell_type": "markdown",
   "metadata": {},
   "source": [
    "# linear regression"
   ]
  },
  {
   "cell_type": "markdown",
   "metadata": {},
   "source": [
    "##### Use following code with given instruction for faster results"
   ]
  },
  {
   "cell_type": "code",
   "execution_count": null,
   "metadata": {},
   "outputs": [],
   "source": [
    "Df = <--->      # insert your dataframe name between <--->.\n",
    "\n",
    "# issential imports for splitting data \n",
    "from sklearn.model_selection import train_test_split \n",
    "\n",
    "train , test = train_test_split(Df, test_size = .2 , random_state = 555)\n",
    "\n",
    "train_x  = train.iloc[:,0:-1]  # select columns with (x) independent variables\n",
    "train_y  = train.iloc[:,-1]    # select column  with (y) dependent variable\n",
    "\n",
    "test_x   = test.iloc[:,0:-1]   # select columns with (x) independent variables\n",
    "test_y   = test.iloc[:,-1]     # select column  with (y) dependent variable\n",
    "\n",
    "# issential import for model building\n",
    "from sklearn.linear_model import LinearRegression\n",
    "lin_reg = LinearRegression()\n",
    "\n",
    "\n",
    "# model fitting\n",
    "lin_reg.fit(train_x,train_y)\n",
    "\n",
    "# observing features\n",
    "\n",
    "feature_beta =pd.DataFrame({ ' Features' : train_x.columns , 'Slope' : lin_reg.coef_}) \n",
    "print(feature_beta.sort_values('Slope' , ascending = False))\n",
    "\n",
    "# R square and Adjecent R square\n",
    "\n",
    "Rsquare = lin_reg.score(train_x , train_y)\n",
    "\n",
    "N = train_x.shape[0]\n",
    "K = train_x.shape[1]\n",
    "\n",
    "AdjRsquare = 1 - (1-Rsquare) * (N -1)/(N-K-1)\n",
    "\n",
    "print('Rsquare-->',Rsquare)\n",
    "print('AdjRsquare-->',AdjRsquare)\n",
    "\n",
    "# predictions\n",
    "pred_train = lin_reg.predict(train_x)\n",
    "pred_test  = lin_reg.predict(test_x)\n",
    "\n",
    "# performance metrics\n",
    "error_train = train_y - pred_train\n",
    "error_test  = test_y - pred_test\n",
    "\n",
    "mse_test   = np.mean(np.square(error_test))\n",
    "mse_train  = np.mean(np.square(error_train))\n",
    "rmse_test  = np.sqrt(mse_test)\n",
    "rmse_train = np.sqrt(mse_train)\n",
    "mape_test  = np.mean(np.abs(error_test*100/test_y))\n",
    "mape_train = np.mean(np.abs(error_train*100/train_y))\n",
    "Accuracy   = 100- mape_test\n",
    "\n",
    "print(\"MSE on test-->\",mse_test)\n",
    "print(\"MSE on train-->\",mse_train)\n",
    "print(\"RMSE on test-->\",rmse_test)\n",
    "print(\"RMSE on train-->\",rmse_train)\n",
    "print(\"MAPE on test-->\",mape_test)\n",
    "print(\"MAPE on train-->\",mape_train)\n",
    "print('Accuracy-->',Accuracy)\n",
    "\n"
   ]
  },
  {
   "cell_type": "code",
   "execution_count": null,
   "metadata": {},
   "outputs": [],
   "source": []
  },
  {
   "cell_type": "code",
   "execution_count": null,
   "metadata": {},
   "outputs": [],
   "source": []
  },
  {
   "cell_type": "code",
   "execution_count": null,
   "metadata": {},
   "outputs": [],
   "source": []
  },
  {
   "cell_type": "code",
   "execution_count": null,
   "metadata": {},
   "outputs": [],
   "source": []
  },
  {
   "cell_type": "code",
   "execution_count": null,
   "metadata": {},
   "outputs": [],
   "source": []
  },
  {
   "cell_type": "code",
   "execution_count": null,
   "metadata": {},
   "outputs": [],
   "source": []
  },
  {
   "cell_type": "code",
   "execution_count": null,
   "metadata": {},
   "outputs": [],
   "source": []
  },
  {
   "cell_type": "code",
   "execution_count": null,
   "metadata": {},
   "outputs": [],
   "source": []
  },
  {
   "cell_type": "code",
   "execution_count": null,
   "metadata": {},
   "outputs": [],
   "source": []
  },
  {
   "cell_type": "code",
   "execution_count": null,
   "metadata": {},
   "outputs": [],
   "source": []
  },
  {
   "cell_type": "code",
   "execution_count": null,
   "metadata": {},
   "outputs": [],
   "source": []
  },
  {
   "cell_type": "code",
   "execution_count": null,
   "metadata": {},
   "outputs": [],
   "source": []
  },
  {
   "cell_type": "code",
   "execution_count": null,
   "metadata": {},
   "outputs": [],
   "source": []
  },
  {
   "cell_type": "code",
   "execution_count": null,
   "metadata": {},
   "outputs": [],
   "source": []
  },
  {
   "cell_type": "markdown",
   "metadata": {},
   "source": [
    "# Logistic algorithm"
   ]
  },
  {
   "cell_type": "markdown",
   "metadata": {},
   "source": [
    "##### Use following code with given instruction for faster results"
   ]
  },
  {
   "cell_type": "code",
   "execution_count": null,
   "metadata": {},
   "outputs": [],
   "source": [
    "Df = <--->      # insert your dataframe name between <--->.\n",
    "\n",
    "from sklearn.model_selection import train_test_split\n",
    "train,test = train_test_split(Df,test_size =.2,random_state = 555)\n",
    "\n",
    "train_x = train.iloc[:,0:-1]   # select columns with (x) independent variables\n",
    "train_y = train.iloc[:,-1]     # select column  with (y) dependent variable\n",
    "\n",
    "test_x = test.iloc[:,0:-1]     # select columns with (x) independent variables\n",
    "test_y = test.iloc[:,-1]       # select column  with (y) dependent variable\n",
    "\n",
    "# issential import for model building\n",
    "from sklearn.linear_model import LogisticRegression\n",
    "log_reg = LogisticRegression()\n",
    "\n",
    "# model fitting\n",
    "log_reg.fit( train_x , train_y)\n",
    "\n",
    "# predictions\n",
    "pred = log_reg.predict(test_x)\n",
    "\n",
    "# performance metrics\n",
    "from sklearn.metrics import confusion_matrix\n",
    "tab1 = confusion_matrix(pred,test_y)\n",
    "print('predicted vs actual')\n",
    "print(tab1)\n",
    "\n",
    "print('diagonal elements')\n",
    "print(tab1.diagonal())\n",
    "print('sum of diagonal elements')\n",
    "print(tab1.diagonal().sum())\n",
    "\n",
    "print('overall accuracy')\n",
    "print(tab1.diagonal().sum()*100/tab1.sum())\n",
    "\n",
    "from sklearn.metrics import accuracy_score\n",
    "accuracy_score(pred,test_y)\n",
    "print('accuracy score')\n",
    "print(accuracy_score(pred,test_y))\n",
    "\n",
    "from sklearn.metrics import precision_score\n",
    "precision_score(test_y,pred)\n",
    "print('precision score')\n",
    "print(precision_score(test_y,pred))\n",
    "\n",
    "tab2 = confusion_matrix(test_y,pred)\n",
    "print('actual vs predicted')\n",
    "print(tab2)\n",
    "\n",
    "print('coefficients-->',log_reg.coef_)\n",
    "print('intercept-->',log_reg.intercept_)\n",
    "print('Predict proba-->',logreg.predict_proba(cr_test_x)) # predictions in probabilities"
   ]
  }
 ],
 "metadata": {
  "kernelspec": {
   "display_name": "Python 3",
   "language": "python",
   "name": "python3"
  },
  "language_info": {
   "codemirror_mode": {
    "name": "ipython",
    "version": 3
   },
   "file_extension": ".py",
   "mimetype": "text/x-python",
   "name": "python",
   "nbconvert_exporter": "python",
   "pygments_lexer": "ipython3",
   "version": "3.8.5"
  }
 },
 "nbformat": 4,
 "nbformat_minor": 4
}
